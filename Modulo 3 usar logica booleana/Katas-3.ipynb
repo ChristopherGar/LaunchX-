{
 "cells": [
  {
   "cell_type": "markdown",
   "metadata": {},
   "source": [
    "Alerta de asteroides"
   ]
  },
  {
   "cell_type": "markdown",
   "metadata": {},
   "source": [
    "Problema No 1"
   ]
  },
  {
   "cell_type": "code",
   "execution_count": 45,
   "metadata": {},
   "outputs": [
    {
     "name": "stdout",
     "output_type": "stream",
     "text": [
      "falsa alarma!\n"
     ]
    }
   ],
   "source": [
    "Ast_Km = 24\n",
    "if Ast_Km > 30:\n",
    "    print(\"Alerta de asteroide aproximandose!\")\n",
    "else:\n",
    "    print(\"falsa alarma!\")"
   ]
  },
  {
   "cell_type": "markdown",
   "metadata": {},
   "source": [
    "problema No 2"
   ]
  },
  {
   "cell_type": "code",
   "execution_count": 46,
   "metadata": {},
   "outputs": [
    {
     "name": "stdout",
     "output_type": "stream",
     "text": [
      "falsa alarma!\n"
     ]
    }
   ],
   "source": [
    "Ast_Km = 19\n",
    "if Ast_Km > 20:\n",
    "    print(\"rayo de luz desde el cielo!\")\n",
    "elif Ast_Km >= 20:\n",
    "    print(\"rayo de luz desde el cielo!\")\n",
    "else: print (\"falsa alarma!\")\n",
    "\n"
   ]
  },
  {
   "cell_type": "markdown",
   "metadata": {},
   "source": [
    "Problema No 3"
   ]
  },
  {
   "cell_type": "code",
   "execution_count": 47,
   "metadata": {},
   "outputs": [
    {
     "name": "stdout",
     "output_type": "stream",
     "text": [
      "falsa alarma!\n"
     ]
    }
   ],
   "source": [
    "Ast_Km:25\n",
    "Ast_Dim:30\n",
    "if Ast_Km > 25 and Ast_Dim >30:\n",
    "    print(\"Alerta de Dimensiones y km de asteroide muy elevados!\")\n",
    "elif Ast_Km >=20:\n",
    "    print(\"rayo de luz desde el cielo!\")\n",
    "else: print(\"falsa alarma!\")\n",
    "\n",
    "\n"
   ]
  }
 ],
 "metadata": {
  "interpreter": {
   "hash": "192ca779a4d2d9f912666387edaef06751b781f4586816c74d2d82bee70f2f2e"
  },
  "kernelspec": {
   "display_name": "Python 3.10.2 64-bit",
   "language": "python",
   "name": "python3"
  },
  "language_info": {
   "codemirror_mode": {
    "name": "ipython",
    "version": 3
   },
   "file_extension": ".py",
   "mimetype": "text/x-python",
   "name": "python",
   "nbconvert_exporter": "python",
   "pygments_lexer": "ipython3",
   "version": "3.10.2"
  },
  "orig_nbformat": 4
 },
 "nbformat": 4,
 "nbformat_minor": 2
}
