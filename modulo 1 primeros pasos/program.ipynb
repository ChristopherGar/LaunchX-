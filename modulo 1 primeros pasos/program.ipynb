{
 "cells": [
  {
   "cell_type": "code",
   "execution_count": null,
   "metadata": {},
   "outputs": [],
   "source": [
    "# program.py\n",
    "\n",
    "sum = 1 + 2\n",
    "product = sum * 2\n",
    "\n",
    "#Función print()\n",
    "print(product)\n",
    "print(sum)\n",
    "print('Hola desde la consola')\n",
    "\n",
    "#Función Type(), determina un dato asigando o una clase asignada de una variable.\n",
    "print(type(sum))\n",
    "\n",
    "#Operadores de asignación\n",
    "# = contiene un valor\n",
    "# += incrementa (suma)\n",
    "# -= decrementa (resta)\n",
    "# /= divide\n",
    "# *= multiplica\n",
    "\n",
    "#Importar bibliotecas para usar fechas\n",
    "from datetime import date\n",
    "date.today()\n",
    "print(date.today())\n",
    "\n",
    "#Conversión de tipos de datos\n",
    "print(\"Today's date is: \"+ str(date.today()))\n",
    "\n",
    "#Recopilar información\n",
    "#Entrada de usuario\n",
    "print(\"Bienvenido al programa de bienvenida\")\n",
    "name = input(\"Introduzca su nombre\")\n",
    "print(\"Saludos: \" + name)\n",
    "\n",
    "#Trabajar con números\n",
    "print(\"Calculadora\")\n",
    "first_number = input(\"Primer número: \")\n",
    "second_number = input(\"Segundo número: \")\n",
    "print(int(first_number) + int(second_number))"
   ]
  }
 ],
 "metadata": {
  "language_info": {
   "name": "python"
  },
  "orig_nbformat": 4
 },
 "nbformat": 4,
 "nbformat_minor": 2
}
