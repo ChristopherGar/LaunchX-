{
 "cells": [
  {
   "cell_type": "markdown",
   "metadata": {},
   "source": [
    "### Ejercicio1: Crear y usar listas de Python"
   ]
  },
  {
   "cell_type": "code",
   "execution_count": 43,
   "metadata": {},
   "outputs": [
    {
     "name": "stdout",
     "output_type": "stream",
     "text": [
      "Aqui hay 8 Planetas\n",
      "primer planeta Mercurio\n",
      "segundo planeta Venus\n",
      "tercer planeta Tierra\n"
     ]
    }
   ],
   "source": [
    "Planets = [\"Mercurio\" , \"Venus\" , \"Tierra\" , \"Marte\" , \"Jupiter\" , \"Saturno\" , \"Urano\" , \"Neptuno\"]\n",
    "print(\"Aqui hay\" , len(Planets), \"Planetas\")\n",
    "\n",
    "print('primer planeta', Planets[0])\n",
    "print('segundo planeta', Planets[1])\n",
    "print('tercer planeta', Planets[2])"
   ]
  },
  {
   "cell_type": "code",
   "execution_count": 54,
   "metadata": {},
   "outputs": [
    {
     "name": "stdout",
     "output_type": "stream",
     "text": [
      "Pluto is the last planet\n"
     ]
    }
   ],
   "source": [
    "Planets = [\"Mercurio\" , \"Venus\" , \"Tierra\" , \"Marte\" , \"Jupiter\" , \"Saturno\" , \"Urano\" , \"Neptuno\"]\n",
    "\n",
    "Planets.append(\"Pluto\")\n",
    "\n",
    "print(Planets[-1], \"is the last planet\")"
   ]
  },
  {
   "cell_type": "markdown",
   "metadata": {},
   "source": [
    "### Ejercicio 2: Trabajando con datos de una lista"
   ]
  },
  {
   "cell_type": "code",
   "execution_count": 55,
   "metadata": {},
   "outputs": [],
   "source": [
    "Planets = [\"Mercurio\" , \"Venus\" , \"Tierra\" , \"Marte\" , \"Jupiter\" , \"Saturno\" , \"Urano\" , \"Neptuno\"]"
   ]
  },
  {
   "cell_type": "code",
   "execution_count": 62,
   "metadata": {},
   "outputs": [
    {
     "name": "stdout",
     "output_type": "stream",
     "text": [
      "Tierra\n"
     ]
    }
   ],
   "source": [
    "user_planet = input(\"Ingrese el nombre de el planeta. Debe iniciar con mayuscula\")\n",
    "print(user_planet)"
   ]
  },
  {
   "cell_type": "code",
   "execution_count": 63,
   "metadata": {},
   "outputs": [
    {
     "name": "stdout",
     "output_type": "stream",
     "text": [
      "planetas buscados: 2\n"
     ]
    }
   ],
   "source": [
    "buscar= Planets.index(user_planet)\n",
    "print(\"planetas buscados:\", buscar)"
   ]
  },
  {
   "cell_type": "code",
   "execution_count": 64,
   "metadata": {},
   "outputs": [
    {
     "name": "stdout",
     "output_type": "stream",
     "text": [
      "Los planetas mas cercanos al sol son: Tierra\n",
      "['Mercurio', 'Venus']\n"
     ]
    }
   ],
   "source": [
    "print(\"Los planetas mas cercanos al sol son: \" + user_planet)\n",
    "print(Planets[0:buscar])"
   ]
  },
  {
   "cell_type": "code",
   "execution_count": 65,
   "metadata": {},
   "outputs": [
    {
     "name": "stdout",
     "output_type": "stream",
     "text": [
      "Los planetas mas alejados son al sol son: Tierra\n",
      "['Marte', 'Jupiter', 'Saturno', 'Urano', 'Neptuno']\n"
     ]
    }
   ],
   "source": [
    "print(\"Los planetas mas alejados son al sol son: \" + user_planet)\n",
    "print(Planets[buscar + 1:])"
   ]
  }
 ],
 "metadata": {
  "interpreter": {
   "hash": "192ca779a4d2d9f912666387edaef06751b781f4586816c74d2d82bee70f2f2e"
  },
  "kernelspec": {
   "display_name": "Python 3.10.2 64-bit",
   "language": "python",
   "name": "python3"
  },
  "language_info": {
   "codemirror_mode": {
    "name": "ipython",
    "version": 3
   },
   "file_extension": ".py",
   "mimetype": "text/x-python",
   "name": "python",
   "nbconvert_exporter": "python",
   "pygments_lexer": "ipython3",
   "version": "3.10.2"
  },
  "orig_nbformat": 4
 },
 "nbformat": 4,
 "nbformat_minor": 2
}
